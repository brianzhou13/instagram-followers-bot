{
 "cells": [
  {
   "cell_type": "code",
   "execution_count": 3,
   "id": "ca8abdd4",
   "metadata": {},
   "outputs": [],
   "source": [
    "import pymongo\n",
    "from pymongo import MongoClient\n",
    "\n",
    "\n",
    "# https://www.w3schools.com/python/python_mongodb_create_collection.asp\n",
    "# The w3schools is pretty helpful with notes on how to use pymongo\n",
    "#\n",
    "# * we don't create the table until it's populated with something (a collection with a single document)\n",
    "client = MongoClient('localhost', 27017)\n",
    "\n",
    "db = client['thoughtfulcoffeenyc-local']\n",
    "collection = db['users']\n"
   ]
  },
  {
   "cell_type": "code",
   "execution_count": 6,
   "id": "fa4f5ed7",
   "metadata": {},
   "outputs": [
    {
     "name": "stdout",
     "output_type": "stream",
     "text": [
      "admin\n",
      "config\n",
      "local\n"
     ]
    }
   ],
   "source": [
    "# then we just take in string objects? what about datetime?\n",
    "# we would need to go through our followers and backfill this info\n",
    "\n",
    "initial_data = {\n",
    "    \"ig_user_name\": \"abc\",\n",
    "    \"ig_user_pk\": \"\",\n",
    "    \"tag_used\": \"pourover\",\n",
    "    \"for_account\": \"thoughtfulcoffeenyc\",\n",
    "    \"created_on\": \"\",\n",
    "    \"status\": \"\", # [blacklist, whitelist, follower]   \n",
    "}\n",
    "# collection.insert_one{\n",
    "#     \"username\"\n",
    "# }"
   ]
  },
  {
   "cell_type": "code",
   "execution_count": null,
   "id": "f826c31b",
   "metadata": {},
   "outputs": [],
   "source": [
    "\n",
    "\n",
    "\"\"\"\n",
    "    ig_user_name: str\n",
    "    ig_user_pk: str\n",
    "    tag_used: str\n",
    "    for_account: [thoughtfulcoffeenyc/ thoughtfulcandlesnyc]\n",
    "    datetime: date\n",
    "        - date we've followed this match\n",
    "    dont_unmatch: bool\n",
    "        - These are whitelisted users that we want to follow even though they don't follow us\n",
    "            - ex: Devocion / Partners / Sey\n",
    "    on_blacklist: bool\n",
    "        - default: False\n",
    "            - this'll get set automatically per the cron job\n",
    "    is_a_follower: bool\n",
    "        - but how do we track this?\n",
    "\n",
    "\"\"\""
   ]
  }
 ],
 "metadata": {
  "kernelspec": {
   "display_name": "Python 3 (ipykernel)",
   "language": "python",
   "name": "python3"
  },
  "language_info": {
   "codemirror_mode": {
    "name": "ipython",
    "version": 3
   },
   "file_extension": ".py",
   "mimetype": "text/x-python",
   "name": "python",
   "nbconvert_exporter": "python",
   "pygments_lexer": "ipython3",
   "version": "3.8.10"
  }
 },
 "nbformat": 4,
 "nbformat_minor": 5
}
